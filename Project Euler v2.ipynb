{
 "cells": [
  {
   "cell_type": "code",
   "execution_count": null,
   "metadata": {
    "collapsed": true
   },
   "outputs": [],
   "source": []
  },
  {
   "cell_type": "markdown",
   "metadata": {},
   "source": [
    "Problem 1: Sum of all multiples of 3 or 5 below 1000"
   ]
  },
  {
   "cell_type": "code",
   "execution_count": 15,
   "metadata": {},
   "outputs": [
    {
     "data": {
      "text/plain": [
       "233168"
      ]
     },
     "execution_count": 15,
     "metadata": {},
     "output_type": "execute_result"
    }
   ],
   "source": [
    "list = []\n",
    "x = 1\n",
    "\n",
    "while x < 1000:\n",
    "    if (x % 3 == 0 ) or (x % 5 == 0):\n",
    "        list.append(x)\n",
    "    x+=1\n",
    "\n",
    "sum(list)"
   ]
  },
  {
   "cell_type": "markdown",
   "metadata": {},
   "source": [
    "Problem 2: Sum of even Fibionacci numbers less than 4,000,000"
   ]
  },
  {
   "cell_type": "code",
   "execution_count": 38,
   "metadata": {},
   "outputs": [
    {
     "data": {
      "text/plain": [
       "4613732"
      ]
     },
     "execution_count": 38,
     "metadata": {},
     "output_type": "execute_result"
    }
   ],
   "source": [
    "list = []\n",
    "\n",
    "# two\n",
    "x = 1\n",
    "y = 2\n",
    "\n",
    "# one\n",
    "list2 = []\n",
    "\n",
    "# x\n",
    "while y < 4000000:\n",
    "    list.append(y)\n",
    "    b = x*2 + y*3\n",
    "    a = b - (x + y)\n",
    "    x = a\n",
    "    y = b\n",
    "\n",
    "sum(list)"
   ]
  },
  {
   "cell_type": "markdown",
   "metadata": {},
   "source": [
    "Problem 3: What is the largest prime factor of 600,851,475,143"
   ]
  },
  {
   "cell_type": "code",
   "execution_count": null,
   "metadata": {},
   "outputs": [],
   "source": [
    "#Efficient Primer Checker\n",
    "\n",
    "def e_primer(num):\n",
    "    num_update = num\n",
    "    i = 2\n",
    "    while i <= num_update:\n",
    "#        print(i)\n",
    "        if num % i == 0:\n",
    "            return False\n",
    "        else:\n",
    "            i+=1\n",
    "            num_update = (num/i)\n",
    "    return True"
   ]
  },
  {
   "cell_type": "code",
   "execution_count": 415,
   "metadata": {
    "scrolled": true
   },
   "outputs": [
    {
     "name": "stdout",
     "output_type": "stream",
     "text": [
      "Divisible by 71.\n",
      "Shrink Range to: 8462696833\n",
      "\n",
      "Prime number found: 71\n",
      "\n",
      "Divisible by 839.\n",
      "Shrink Range to: 716151937\n",
      "\n",
      "Prime number found: 839\n",
      "\n",
      "Divisible by 1471.\n",
      "Shrink Range to: 408464633\n",
      "\n",
      "Prime number found: 1471\n",
      "\n",
      "Divisible by 6857.\n",
      "Shrink Range to: 87625999\n",
      "\n",
      "Prime number found: 6857\n",
      "\n",
      "Divisible by 59569.\n",
      "Shrink Range to: 10086647\n",
      "Current number: 100000\n",
      "Divisible by 104441.\n",
      "Shrink Range to: 5753023\n",
      "Current number: 200000\n",
      "Current number: 300000\n",
      "Current number: 400000\n",
      "Divisible by 486847.\n",
      "Shrink Range to: 1234169\n",
      "Current number: 500000\n",
      "Current number: 600000\n",
      "Current number: 700000\n",
      "Current number: 800000\n",
      "Current number: 900000\n",
      "Current number: 1000000\n",
      "Current number: 1100000\n",
      "Current number: 1200000\n",
      "\n",
      "The largest prime factor is: 6857\n"
     ]
    }
   ],
   "source": [
    "num_update = num\n",
    "i = 2\n",
    "prime = 0\n",
    "\n",
    "\n",
    "#     8462696833 >  current_num\n",
    "while num_update > i:   \n",
    "    \n",
    "    if num % i == 0:\n",
    "        num_update = int(num/i)\n",
    "        print('Divisible by {}.'.format(i))\n",
    "        print('Shrink Range to: {}'.format(num_update))\n",
    "        \n",
    "        if e_primer(i):\n",
    "            print('\\nPrime number found: {}\\n'.format(i))\n",
    "            list.append(i)\n",
    "            if i > prime:\n",
    "                prime = i\n",
    "            \n",
    "    if i % 100000 == 0:\n",
    "        print('Current number: {}'.format(i))\n",
    "    i+=1\n",
    "    \n",
    "print('\\nThe largest prime factor is: {}'.format(prime))"
   ]
  },
  {
   "cell_type": "markdown",
   "metadata": {},
   "source": [
    "Problem 4: Largest Palindrome product of 2 3-digit numbers"
   ]
  },
  {
   "cell_type": "code",
   "execution_count": 429,
   "metadata": {
    "scrolled": true
   },
   "outputs": [
    {
     "ename": "TypeError",
     "evalue": "'int' object is not callable",
     "output_type": "error",
     "traceback": [
      "\u001b[1;31m---------------------------------------------------------------------------\u001b[0m",
      "\u001b[1;31mTypeError\u001b[0m                                 Traceback (most recent call last)",
      "\u001b[1;32m<ipython-input-429-37e70a2607a1>\u001b[0m in \u001b[0;36m<module>\u001b[1;34m\u001b[0m\n\u001b[0;32m     11\u001b[0m                 \u001b[1;32mif\u001b[0m \u001b[1;33m(\u001b[0m\u001b[0mproduct\u001b[0m\u001b[1;33m[\u001b[0m\u001b[1;36m0\u001b[0m\u001b[1;33m]\u001b[0m \u001b[1;33m+\u001b[0m \u001b[0mproduct\u001b[0m\u001b[1;33m[\u001b[0m\u001b[1;36m1\u001b[0m\u001b[1;33m]\u001b[0m \u001b[1;33m+\u001b[0m \u001b[0mproduct\u001b[0m\u001b[1;33m[\u001b[0m\u001b[1;36m2\u001b[0m\u001b[1;33m]\u001b[0m\u001b[1;33m)\u001b[0m \u001b[1;33m==\u001b[0m \u001b[1;33m(\u001b[0m\u001b[0mproduct\u001b[0m\u001b[1;33m[\u001b[0m\u001b[1;36m5\u001b[0m\u001b[1;33m]\u001b[0m \u001b[1;33m+\u001b[0m \u001b[0mproduct\u001b[0m\u001b[1;33m[\u001b[0m\u001b[1;36m4\u001b[0m\u001b[1;33m]\u001b[0m \u001b[1;33m+\u001b[0m \u001b[0mproduct\u001b[0m\u001b[1;33m[\u001b[0m\u001b[1;36m3\u001b[0m\u001b[1;33m]\u001b[0m\u001b[1;33m)\u001b[0m\u001b[1;33m:\u001b[0m\u001b[1;33m\u001b[0m\u001b[1;33m\u001b[0m\u001b[0m\n\u001b[0;32m     12\u001b[0m                     \u001b[0mlist\u001b[0m\u001b[1;33m.\u001b[0m\u001b[0mappend\u001b[0m\u001b[1;33m(\u001b[0m\u001b[0mint\u001b[0m\u001b[1;33m(\u001b[0m\u001b[0mproduct\u001b[0m\u001b[1;33m)\u001b[0m\u001b[1;33m)\u001b[0m\u001b[1;33m\u001b[0m\u001b[1;33m\u001b[0m\u001b[0m\n\u001b[1;32m---> 13\u001b[1;33m \u001b[0mmax\u001b[0m\u001b[1;33m(\u001b[0m\u001b[0mlist\u001b[0m\u001b[1;33m)\u001b[0m\u001b[1;33m\u001b[0m\u001b[1;33m\u001b[0m\u001b[0m\n\u001b[0m",
      "\u001b[1;31mTypeError\u001b[0m: 'int' object is not callable"
     ]
    }
   ],
   "source": [
    "list = []\n",
    "#num = 101\n",
    "\n",
    "for x in reversed(range(100, 1000)):\n",
    "    #num-=1\n",
    "#    if x % 10 == 0:\n",
    "#        print(x)\n",
    "    for y in reversed(range(100, 1000)):\n",
    "            product = str(x * y) \n",
    "            if len(product) == 6:\n",
    "                if (product[0] + product[1] + product[2]) == (product[5] + product[4] + product[3]):\n",
    "                    list.append(int(product))\n",
    "max(list)"
   ]
  },
  {
   "cell_type": "code",
   "execution_count": 433,
   "metadata": {},
   "outputs": [
    {
     "ename": "TypeError",
     "evalue": "'int' object is not callable",
     "output_type": "error",
     "traceback": [
      "\u001b[1;31m---------------------------------------------------------------------------\u001b[0m",
      "\u001b[1;31mTypeError\u001b[0m                                 Traceback (most recent call last)",
      "\u001b[1;32m<ipython-input-433-d27cce2b4c89>\u001b[0m in \u001b[0;36m<module>\u001b[1;34m\u001b[0m\n\u001b[1;32m----> 1\u001b[1;33m \u001b[0mmax\u001b[0m\u001b[1;33m(\u001b[0m\u001b[0mlist\u001b[0m\u001b[1;33m)\u001b[0m\u001b[1;33m\u001b[0m\u001b[1;33m\u001b[0m\u001b[0m\n\u001b[0m",
      "\u001b[1;31mTypeError\u001b[0m: 'int' object is not callable"
     ]
    }
   ],
   "source": [
    "max(list)"
   ]
  },
  {
   "cell_type": "code",
   "execution_count": null,
   "metadata": {},
   "outputs": [],
   "source": []
  },
  {
   "cell_type": "code",
   "execution_count": 132,
   "metadata": {},
   "outputs": [
    {
     "data": {
      "text/plain": [
       "[2, 3, 4, 5, 6, 7, 8, 9, 10, 11, 12, 13, 14, 15, 16, 17, 18, 19, 20]"
      ]
     },
     "execution_count": 132,
     "metadata": {},
     "output_type": "execute_result"
    }
   ],
   "source": [
    "list = []\n",
    "\n",
    "def factorizor(num, list):\n",
    "    for x in range(2, num+1):\n",
    "        if num % x == 0:\n",
    "            if x not in list:\n",
    "                list.append(x)\n",
    "    return list\n",
    "\n",
    "factorizor(3, list)\n",
    "\n",
    "list = []\n",
    "\n",
    "for x in range(2,21):\n",
    "    #print(x)\n",
    "    factorizor(x, list)\n",
    "list"
   ]
  },
  {
   "cell_type": "markdown",
   "metadata": {},
   "source": [
    "Problem 5: Smallest positive number that is evenly divisible by all numbers from 1 to 20?"
   ]
  },
  {
   "cell_type": "code",
   "execution_count": null,
   "metadata": {},
   "outputs": [],
   "source": [
    "for x in range(1, num)"
   ]
  },
  {
   "cell_type": "code",
   "execution_count": 448,
   "metadata": {},
   "outputs": [],
   "source": [
    "factors_dict = dict()\n",
    "\n",
    "factors_dict[2] = 2\n",
    "factors_dict[3] = 2"
   ]
  },
  {
   "cell_type": "code",
   "execution_count": 456,
   "metadata": {},
   "outputs": [
    {
     "data": {
      "text/plain": [
       "{2: 2, 3: 2}"
      ]
     },
     "execution_count": 456,
     "metadata": {},
     "output_type": "execute_result"
    }
   ],
   "source": [
    "factors_dict"
   ]
  },
  {
   "cell_type": "code",
   "execution_count": 455,
   "metadata": {},
   "outputs": [
    {
     "data": {
      "text/plain": [
       "dict_keys([2, 3])"
      ]
     },
     "execution_count": 455,
     "metadata": {},
     "output_type": "execute_result"
    }
   ],
   "source": [
    "if key in factors_dict.keys():\n",
    "    if factors_dict[key] <= this:\n",
    "        factors_dict[key] = this\n",
    "        \n",
    "mutiply key * factors_dict[key]"
   ]
  },
  {
   "cell_type": "code",
   "execution_count": null,
   "metadata": {},
   "outputs": [],
   "source": [
    "num = 20\n",
    "num_update = num\n",
    "i = 2\n",
    "factors_dict = dict()\n",
    "\n",
    "#Is the factor less than the numbers left to check?\n",
    "while num_update > i:   \n",
    "    \n",
    "    #Is it divisible by this factor?\n",
    "    if num % i == 0:\n",
    "        \n",
    "        #Is it a prime number?\n",
    "        if e_primer(i):\n",
    "            factors_dict[i] == 1\n",
    "            \n",
    "        \n",
    "        #Is it already a key?\n",
    "        if key in factors_dict.keys():\n",
    "            if factors_dict[key] <= this:\n",
    "                factors_dict[key] = this\n",
    "        else:    \n",
    "            factors_dict[i] == 1\n",
    "        \n",
    "        \n",
    "        "
   ]
  },
  {
   "cell_type": "code",
   "execution_count": null,
   "metadata": {},
   "outputs": [],
   "source": []
  },
  {
   "cell_type": "code",
   "execution_count": null,
   "metadata": {},
   "outputs": [],
   "source": [
    "list = []\n",
    "\n",
    "for i in range(num)\n",
    "    if num % i == 0:\n",
    "        list.append(i)\n",
    "    "
   ]
  },
  {
   "cell_type": "code",
   "execution_count": null,
   "metadata": {},
   "outputs": [],
   "source": []
  },
  {
   "cell_type": "code",
   "execution_count": null,
   "metadata": {},
   "outputs": [],
   "source": []
  },
  {
   "cell_type": "code",
   "execution_count": 127,
   "metadata": {},
   "outputs": [
    {
     "data": {
      "text/plain": [
       "[3]"
      ]
     },
     "execution_count": 127,
     "metadata": {},
     "output_type": "execute_result"
    }
   ],
   "source": [
    "list = []\n",
    "\n",
    "def factorizor(num):\n",
    "    for x in range(2, num+1):\n",
    "        if num % x == 0:\n",
    "            list.append(x)\n",
    "    return list\n",
    "\n",
    "factorizor(3)"
   ]
  },
  {
   "cell_type": "code",
   "execution_count": 133,
   "metadata": {},
   "outputs": [
    {
     "data": {
      "text/plain": [
       "3.0"
      ]
     },
     "execution_count": 133,
     "metadata": {},
     "output_type": "execute_result"
    }
   ],
   "source": [
    "math.sqrt(9)"
   ]
  },
  {
   "cell_type": "code",
   "execution_count": null,
   "metadata": {},
   "outputs": [],
   "source": []
  },
  {
   "cell_type": "code",
   "execution_count": 96,
   "metadata": {},
   "outputs": [],
   "source": [
    "def prime_check(num):\n",
    "    x = 2\n",
    "    while num > x:\n",
    "        if num % x == 0:\n",
    "            return False\n",
    "        else:\n",
    "            x+=1\n",
    "    return True"
   ]
  },
  {
   "cell_type": "code",
   "execution_count": 145,
   "metadata": {
    "scrolled": true
   },
   "outputs": [
    {
     "name": "stdout",
     "output_type": "stream",
     "text": [
      "[2, 4, 8, 16, 3, 9, 5, 7, 11, 13, 17, 19]\n"
     ]
    },
    {
     "data": {
      "text/plain": [
       "27289040.0"
      ]
     },
     "execution_count": 145,
     "metadata": {},
     "output_type": "execute_result"
    }
   ],
   "source": [
    "import numpy\n",
    "\n",
    "list = []\n",
    "\n",
    "for x in range(2, 21):\n",
    "    if prime_check(x):\n",
    "        list.append(x)\n",
    "        for y in range(2,5):\n",
    "            if x**y < 20:\n",
    "                list.append(x**y)\n",
    "print(list)\n",
    "\n",
    "\n",
    "\n",
    "\n",
    "numpy.prod(list)/ 64"
   ]
  },
  {
   "cell_type": "code",
   "execution_count": null,
   "metadata": {},
   "outputs": [],
   "source": [
    "list = []\n",
    "\n",
    "for x in range(2, 21):\n",
    "    for y in range(1,5):\n",
    "        if prime_check(x):\n",
    "            if x**y < 20:\n",
    "                list.append()\n",
    "            "
   ]
  },
  {
   "cell_type": "code",
   "execution_count": 148,
   "metadata": {},
   "outputs": [
    {
     "data": {
      "text/plain": [
       "232792560"
      ]
     },
     "execution_count": 148,
     "metadata": {},
     "output_type": "execute_result"
    }
   ],
   "source": [
    "test = [2**4, 3**2, 5, 7, 11, 13, 17, 19]\n",
    "numpy.prod(test)"
   ]
  },
  {
   "cell_type": "markdown",
   "metadata": {},
   "source": [
    "Think in dictionary terms"
   ]
  },
  {
   "cell_type": "code",
   "execution_count": null,
   "metadata": {},
   "outputs": [],
   "source": [
    "for x in range(num)\n",
    "    "
   ]
  },
  {
   "cell_type": "code",
   "execution_count": null,
   "metadata": {},
   "outputs": [],
   "source": [
    "import numpy\n",
    "\n",
    "list = {}\n",
    "\n",
    "for x in range(2, 20):\n",
    "    if prime_check(x):\n",
    "        list.append(x)\n",
    "print(list)\n",
    "numpy.prod(list)"
   ]
  },
  {
   "cell_type": "code",
   "execution_count": null,
   "metadata": {},
   "outputs": [],
   "source": []
  },
  {
   "cell_type": "markdown",
   "metadata": {},
   "source": [
    "Problem 6: Difference between the sum of squares of the first 100 natural numbers and the square sum"
   ]
  },
  {
   "cell_type": "code",
   "execution_count": 163,
   "metadata": {},
   "outputs": [
    {
     "data": {
      "text/plain": [
       "25164150"
      ]
     },
     "execution_count": 163,
     "metadata": {},
     "output_type": "execute_result"
    }
   ],
   "source": [
    "sum_sqrs = 0\n",
    "sqr_sum = 0\n",
    "for x in range(1,101):\n",
    "    sum_sqrs += x**2\n",
    "    sqr_sum += x\n",
    "sqr_sum**2 - sum_sqrs"
   ]
  },
  {
   "cell_type": "markdown",
   "metadata": {},
   "source": [
    "Problem 7: 10,001st prime number"
   ]
  },
  {
   "cell_type": "code",
   "execution_count": 166,
   "metadata": {},
   "outputs": [],
   "source": [
    "def prime_check(num):\n",
    "    x = 2\n",
    "    while num > x:\n",
    "        if num % x == 0:\n",
    "            return False\n",
    "        else:\n",
    "            x+=1\n",
    "    return True"
   ]
  },
  {
   "cell_type": "code",
   "execution_count": 174,
   "metadata": {},
   "outputs": [
    {
     "data": {
      "text/plain": [
       "104743"
      ]
     },
     "execution_count": 174,
     "metadata": {},
     "output_type": "execute_result"
    }
   ],
   "source": [
    "list = []\n",
    "x = 2\n",
    "\n",
    "while len(list) < 10001:\n",
    "    if prime_check(x):\n",
    "        list.append(x)\n",
    "    x+=1\n",
    "max(list)"
   ]
  },
  {
   "cell_type": "markdown",
   "metadata": {},
   "source": [
    "Problem 8: Find the thirteen adjacent digits in the 1000-digit number that have the greatest product. What is the value of this product?"
   ]
  },
  {
   "cell_type": "code",
   "execution_count": 178,
   "metadata": {},
   "outputs": [
    {
     "data": {
      "text/plain": [
       "1000"
      ]
     },
     "execution_count": 178,
     "metadata": {},
     "output_type": "execute_result"
    }
   ],
   "source": [
    "th_dig_num = str(7316717653133062491922511967442657474235534919493496983520312774506326239578318016984801869478851843858615607891129494954595017379583319528532088055111254069874715852386305071569329096329522744304355766896648950445244523161731856403098711121722383113622298934233803081353362766142828064444866452387493035890729629049156044077239071381051585930796086670172427121883998797908792274921901699720888093776657273330010533678812202354218097512545405947522435258490771167055601360483958644670632441572215539753697817977846174064955149290862569321978468622482839722413756570560574902614079729686524145351004748216637048440319989000889524345065854122758866688116427171479924442928230863465674813919123162824586178664583591245665294765456828489128831426076900422421902267105562632111110937054421750694165896040807198403850962455444362981230987879927244284909188845801561660979191338754992005240636899125607176060588611646710940507754100225698315520005593572972571636269561882670428252483600823257530420752963450)\n",
    "len(th_dig_num)"
   ]
  },
  {
   "cell_type": "code",
   "execution_count": 226,
   "metadata": {},
   "outputs": [
    {
     "name": "stdout",
     "output_type": "stream",
     "text": [
      "6\n",
      "12\n",
      "16\n"
     ]
    },
    {
     "data": {
      "text/plain": [
       "16"
      ]
     },
     "execution_count": 226,
     "metadata": {},
     "output_type": "execute_result"
    }
   ],
   "source": [
    "num = '12344321'\n",
    "max = 0 \n",
    "\n",
    "for x in range(1, len(num) -1):\n",
    "    test = 1\n",
    "    for d in range(0,2):\n",
    "        test *= int(num[x + d])\n",
    "    if max < test:\n",
    "        max = test\n",
    "        print(max)\n",
    "max"
   ]
  },
  {
   "cell_type": "code",
   "execution_count": 227,
   "metadata": {},
   "outputs": [
    {
     "name": "stdout",
     "output_type": "stream",
     "text": [
      "4199040\n",
      "4898880\n",
      "9797760\n",
      "13063680\n",
      "25401600\n",
      "50803200\n",
      "71124480\n",
      "284497920\n",
      "568995840\n",
      "1020366720\n",
      "1632586752\n",
      "2040733440\n",
      "2972712960\n",
      "6270566400\n",
      "14108774400\n",
      "23514624000\n"
     ]
    },
    {
     "data": {
      "text/plain": [
       "23514624000"
      ]
     },
     "execution_count": 227,
     "metadata": {},
     "output_type": "execute_result"
    }
   ],
   "source": [
    "max = 0 \n",
    "\n",
    "for x in range(1, len(th_dig_num) -13):\n",
    "    test = 1\n",
    "    for d in range(0,13):\n",
    "        test *= int(th_dig_num[x + d])\n",
    "    if max < test:\n",
    "        max = test\n",
    "        print(max)\n",
    "max"
   ]
  },
  {
   "cell_type": "markdown",
   "metadata": {},
   "source": [
    "Problem 9: Find a + b + c = 1000, such that a^2 + b^2 = c^2"
   ]
  },
  {
   "cell_type": "code",
   "execution_count": 236,
   "metadata": {},
   "outputs": [],
   "source": [
    "def root_check(num):\n",
    "    root = math.sqrt(num)\n",
    "    return int(root + 0.5) ** 2 == num"
   ]
  },
  {
   "cell_type": "code",
   "execution_count": 238,
   "metadata": {},
   "outputs": [
    {
     "data": {
      "text/plain": [
       "True"
      ]
     },
     "execution_count": 238,
     "metadata": {},
     "output_type": "execute_result"
    }
   ],
   "source": [
    "root_check(9)"
   ]
  },
  {
   "cell_type": "code",
   "execution_count": 239,
   "metadata": {},
   "outputs": [
    {
     "data": {
      "text/plain": [
       "30"
      ]
     },
     "execution_count": 239,
     "metadata": {},
     "output_type": "execute_result"
    }
   ],
   "source": [
    "5+ 12 + 13"
   ]
  },
  {
   "cell_type": "code",
   "execution_count": 249,
   "metadata": {},
   "outputs": [
    {
     "name": "stdout",
     "output_type": "stream",
     "text": [
      "a: 5, b: 12, c: 13.0\n",
      "a: 12, b: 5, c: 13.0\n"
     ]
    }
   ],
   "source": [
    "for a in range(1, 29):\n",
    "    for b in range(1, 29):\n",
    "        c = math.sqrt(a**2 + b**2)\n",
    "        if root_check(c**2):\n",
    "            if a + b + c == 30:\n",
    "                print('a: {}, b: {}, c: {}'.format(a, b, c))"
   ]
  },
  {
   "cell_type": "code",
   "execution_count": 252,
   "metadata": {},
   "outputs": [
    {
     "name": "stdout",
     "output_type": "stream",
     "text": [
      "a: 200, b: 375, c: 425.0\n",
      "31875000\n",
      "a: 375, b: 200, c: 425.0\n",
      "31875000\n"
     ]
    }
   ],
   "source": [
    "for a in range(1, 1000):\n",
    "    for b in range(1, 1000):\n",
    "        c = math.sqrt(a**2 + b**2)\n",
    "        if root_check(c**2):\n",
    "            if a + b + c == 1000:\n",
    "                print('a: {}, b: {}, c: {}'.format(a, b, c))\n",
    "                print(int(a*b*c))"
   ]
  },
  {
   "cell_type": "markdown",
   "metadata": {},
   "source": [
    "Problem 10: Find sum of all primes below 2 million"
   ]
  },
  {
   "cell_type": "code",
   "execution_count": 285,
   "metadata": {},
   "outputs": [],
   "source": [
    "#Check 2, 3, 4, 5\n",
    "number = 19\n",
    "#num_update = 19\n",
    "#i = 1\n",
    "\n",
    "def e_primer(num):\n",
    "    num_update = num\n",
    "    i = 2\n",
    "    while i < num_update:\n",
    "#        print(i)\n",
    "        if num % i == 0:\n",
    "            return False\n",
    "        else:\n",
    "            i+=1\n",
    "            num_update = (num/i)\n",
    "    return True"
   ]
  },
  {
   "cell_type": "code",
   "execution_count": 337,
   "metadata": {},
   "outputs": [
    {
     "data": {
      "text/plain": [
       "False"
      ]
     },
     "execution_count": 337,
     "metadata": {},
     "output_type": "execute_result"
    }
   ],
   "source": [
    "e_primer(3)"
   ]
  },
  {
   "cell_type": "code",
   "execution_count": 338,
   "metadata": {},
   "outputs": [],
   "source": [
    "#Efficient Primer Checker\n",
    "\n",
    "def e_primer(num):\n",
    "    num_update = num\n",
    "    i = 2\n",
    "    while i <= num_update:\n",
    "#        print(i)\n",
    "        if num % i == 0:\n",
    "            return False\n",
    "        else:\n",
    "            i+=1\n",
    "            num_update = (num/i)\n",
    "    return True"
   ]
  },
  {
   "cell_type": "code",
   "execution_count": 339,
   "metadata": {
    "scrolled": true
   },
   "outputs": [
    {
     "name": "stdout",
     "output_type": "stream",
     "text": [
      "100000\n",
      "200000\n",
      "300000\n",
      "400000\n",
      "500000\n",
      "600000\n",
      "700000\n",
      "800000\n",
      "900000\n",
      "1000000\n",
      "1100000\n",
      "1200000\n",
      "1300000\n",
      "1400000\n",
      "1500000\n",
      "1600000\n",
      "1700000\n",
      "1800000\n",
      "1900000\n"
     ]
    },
    {
     "data": {
      "text/plain": [
       "142913828922"
      ]
     },
     "execution_count": 339,
     "metadata": {},
     "output_type": "execute_result"
    }
   ],
   "source": [
    "list = [2]\n",
    "\n",
    "for x in range(2, 2000000):\n",
    "    if x % 100000 == 0:\n",
    "        print(x)\n",
    "    if e_primer(x):\n",
    "        list.append(x)\n",
    "sum(list)"
   ]
  },
  {
   "cell_type": "code",
   "execution_count": 326,
   "metadata": {
    "scrolled": true
   },
   "outputs": [
    {
     "data": {
      "text/plain": [
       "148932"
      ]
     },
     "execution_count": 326,
     "metadata": {},
     "output_type": "execute_result"
    }
   ],
   "source": [
    "len(list)"
   ]
  },
  {
   "cell_type": "code",
   "execution_count": 327,
   "metadata": {},
   "outputs": [
    {
     "data": {
      "text/plain": [
       "[3,\n",
       " 5,\n",
       " 7,\n",
       " 11,\n",
       " 13,\n",
       " 17,\n",
       " 19,\n",
       " 23,\n",
       " 29,\n",
       " 31,\n",
       " 37,\n",
       " 41,\n",
       " 43,\n",
       " 47,\n",
       " 53,\n",
       " 59,\n",
       " 61,\n",
       " 67,\n",
       " 71,\n",
       " 73,\n",
       " 79,\n",
       " 83,\n",
       " 89,\n",
       " 97,\n",
       " 101,\n",
       " 103,\n",
       " 107,\n",
       " 109,\n",
       " 113,\n",
       " 127]"
      ]
     },
     "execution_count": 327,
     "metadata": {},
     "output_type": "execute_result"
    }
   ],
   "source": [
    "list[:30]"
   ]
  },
  {
   "cell_type": "code",
   "execution_count": null,
   "metadata": {},
   "outputs": [],
   "source": []
  }
 ],
 "metadata": {
  "kernelspec": {
   "display_name": "Python 3",
   "language": "python",
   "name": "python3"
  },
  "language_info": {
   "codemirror_mode": {
    "name": "ipython",
    "version": 3
   },
   "file_extension": ".py",
   "mimetype": "text/x-python",
   "name": "python",
   "nbconvert_exporter": "python",
   "pygments_lexer": "ipython3",
   "version": "3.7.3"
  }
 },
 "nbformat": 4,
 "nbformat_minor": 2
}
