{
 "cells": [
  {
   "cell_type": "code",
   "execution_count": 4,
   "metadata": {
    "run_control": {
     "frozen": false,
     "read_only": false
    }
   },
   "outputs": [],
   "source": [
    "import math\n",
    "import warnings\n",
    "\n",
    "from IPython.display import display\n",
    "from matplotlib import pyplot as plt\n",
    "import numpy as np\n",
    "import pandas as pd\n",
    "import seaborn as sns\n",
    "from sklearn import linear_model\n",
    "import statsmodels.formula.api as smf\n",
    "\n",
    "# Display preferences.\n",
    "%matplotlib inline\n",
    "pd.options.display.float_format = '{:.3f}'.format\n",
    "\n",
    "# Suppress annoying harmless error.\n",
    "warnings.filterwarnings(\n",
    "    action=\"ignore\",\n",
    "    module=\"scipy\",\n",
    "    message=\"^internal gelsd\"\n",
    ")"
   ]
  },
  {
   "cell_type": "markdown",
   "metadata": {
    "run_control": {
     "frozen": false,
     "read_only": false
    }
   },
   "source": [
    "## The Extraordinary Power of Explanatory Power\n",
    "\n",
    "The strength of multiple linear regression lies in its ability to provide straightforward and interpretable solutions that not only predict future outcomes, but also provide insight into the underlying processes that create these outcomes.  For example, after fitting the following model:\n",
    "\n",
    "$$HourlyWidgetProduction = \\alpha + \\beta_1WorkerAgeFrom18+ \\beta_2WorkerYearsinJob + \\beta_3IsRoundWidget$$\n",
    "\n",
    "we get these parameters:\n",
    "$$\\alpha = 2$$\n",
    "$$\\beta_1 = .1$$\n",
    "$$\\beta_2 = .2$$\n",
    "$$\\beta_3 = 4$$\n",
    "\n",
    "Using those parameters, we learn that round widgets are twice as fast to produce as non-round widgets. We can tell because $\\alpha$ represents the intercept, the hourly rate of production for widgets that are not round (2 an hour) and $\\beta_3$ represents the difference between the intercept and the hourly rate of production for round widgets (also 2 an hour, for a total of 4 round widgets an hour).\n",
    "\n",
    "We also learn that for every year a worker ages after the age of 18, their hourly production-rate goes up by .1 ($\\beta_1$).  In addition, for every year a worker has been in that job, their hourly production-rate goes up by .2 ($\\beta_2$).  \n",
    "\n",
    "Furthermore, using this model, we can predict that a 20-year-old worker who has been in the job for a year and is making only round widgets will make $2 + .1*2 + .2*1 + 4 = 6.3$ round widgets an hour.\n",
    "\n",
    "Finally, and probably of greatest interest, we get an **R-Squared** value.  This is a proportion (between 0 and 1) that expresses how much variance in the outcome variable our model was able to explain.  Higher $R^2$ values are better to a point-- a low $R^2$ indicates that our model isn't explaining much information about the outcome, which means it will not give very good predictions.  However, a very high $R^2$ is a warning sign for overfitting.  No dataset is a perfect representation of reality, so a model that perfectly fits our data ($R^2$ of 1 or close to 1) is likely to be biased by quirks in the data, and will perform less well on the test-set.\n",
    "\n",
    "Here's an example using a toy advertising dataset:\n"
   ]
  },
  {
   "cell_type": "code",
   "execution_count": 10,
   "metadata": {},
   "outputs": [
    {
     "data": {
      "text/html": [
       "<div>\n",
       "<style scoped>\n",
       "    .dataframe tbody tr th:only-of-type {\n",
       "        vertical-align: middle;\n",
       "    }\n",
       "\n",
       "    .dataframe tbody tr th {\n",
       "        vertical-align: top;\n",
       "    }\n",
       "\n",
       "    .dataframe thead th {\n",
       "        text-align: right;\n",
       "    }\n",
       "</style>\n",
       "<table border=\"1\" class=\"dataframe\">\n",
       "  <thead>\n",
       "    <tr style=\"text-align: right;\">\n",
       "      <th></th>\n",
       "      <th>Unnamed: 0</th>\n",
       "      <th>TV</th>\n",
       "      <th>Radio</th>\n",
       "      <th>Newspaper</th>\n",
       "      <th>Sales</th>\n",
       "      <th>sqrt_TV</th>\n",
       "    </tr>\n",
       "  </thead>\n",
       "  <tbody>\n",
       "    <tr>\n",
       "      <th>0</th>\n",
       "      <td>1</td>\n",
       "      <td>230.100</td>\n",
       "      <td>37.800</td>\n",
       "      <td>69.200</td>\n",
       "      <td>22.100</td>\n",
       "      <td>15.169</td>\n",
       "    </tr>\n",
       "    <tr>\n",
       "      <th>1</th>\n",
       "      <td>2</td>\n",
       "      <td>44.500</td>\n",
       "      <td>39.300</td>\n",
       "      <td>45.100</td>\n",
       "      <td>10.400</td>\n",
       "      <td>6.671</td>\n",
       "    </tr>\n",
       "    <tr>\n",
       "      <th>2</th>\n",
       "      <td>3</td>\n",
       "      <td>17.200</td>\n",
       "      <td>45.900</td>\n",
       "      <td>69.300</td>\n",
       "      <td>9.300</td>\n",
       "      <td>4.147</td>\n",
       "    </tr>\n",
       "    <tr>\n",
       "      <th>3</th>\n",
       "      <td>4</td>\n",
       "      <td>151.500</td>\n",
       "      <td>41.300</td>\n",
       "      <td>58.500</td>\n",
       "      <td>18.500</td>\n",
       "      <td>12.309</td>\n",
       "    </tr>\n",
       "    <tr>\n",
       "      <th>4</th>\n",
       "      <td>5</td>\n",
       "      <td>180.800</td>\n",
       "      <td>10.800</td>\n",
       "      <td>58.400</td>\n",
       "      <td>12.900</td>\n",
       "      <td>13.446</td>\n",
       "    </tr>\n",
       "  </tbody>\n",
       "</table>\n",
       "</div>"
      ],
      "text/plain": [
       "   Unnamed: 0      TV  Radio  Newspaper  Sales  sqrt_TV\n",
       "0           1 230.100 37.800     69.200 22.100   15.169\n",
       "1           2  44.500 39.300     45.100 10.400    6.671\n",
       "2           3  17.200 45.900     69.300  9.300    4.147\n",
       "3           4 151.500 41.300     58.500 18.500   12.309\n",
       "4           5 180.800 10.800     58.400 12.900   13.446"
      ]
     },
     "execution_count": 10,
     "metadata": {},
     "output_type": "execute_result"
    }
   ],
   "source": [
    "data['sqrt_TV'] = np.sqrt(data.TV)\n",
    "data.head()"
   ]
  },
  {
   "cell_type": "code",
   "execution_count": 11,
   "metadata": {
    "run_control": {
     "frozen": false,
     "read_only": false
    }
   },
   "outputs": [
    {
     "data": {
      "text/html": [
       "<div>\n",
       "<style scoped>\n",
       "    .dataframe tbody tr th:only-of-type {\n",
       "        vertical-align: middle;\n",
       "    }\n",
       "\n",
       "    .dataframe tbody tr th {\n",
       "        vertical-align: top;\n",
       "    }\n",
       "\n",
       "    .dataframe thead th {\n",
       "        text-align: right;\n",
       "    }\n",
       "</style>\n",
       "<table border=\"1\" class=\"dataframe\">\n",
       "  <thead>\n",
       "    <tr style=\"text-align: right;\">\n",
       "      <th></th>\n",
       "      <th>Unnamed: 0</th>\n",
       "      <th>TV</th>\n",
       "      <th>Radio</th>\n",
       "      <th>Newspaper</th>\n",
       "      <th>Sales</th>\n",
       "      <th>sqrt_TV</th>\n",
       "    </tr>\n",
       "  </thead>\n",
       "  <tbody>\n",
       "    <tr>\n",
       "      <th>0</th>\n",
       "      <td>1</td>\n",
       "      <td>230.100</td>\n",
       "      <td>37.800</td>\n",
       "      <td>69.200</td>\n",
       "      <td>22.100</td>\n",
       "      <td>15.169</td>\n",
       "    </tr>\n",
       "    <tr>\n",
       "      <th>1</th>\n",
       "      <td>2</td>\n",
       "      <td>44.500</td>\n",
       "      <td>39.300</td>\n",
       "      <td>45.100</td>\n",
       "      <td>10.400</td>\n",
       "      <td>6.671</td>\n",
       "    </tr>\n",
       "    <tr>\n",
       "      <th>2</th>\n",
       "      <td>3</td>\n",
       "      <td>17.200</td>\n",
       "      <td>45.900</td>\n",
       "      <td>69.300</td>\n",
       "      <td>9.300</td>\n",
       "      <td>4.147</td>\n",
       "    </tr>\n",
       "    <tr>\n",
       "      <th>3</th>\n",
       "      <td>4</td>\n",
       "      <td>151.500</td>\n",
       "      <td>41.300</td>\n",
       "      <td>58.500</td>\n",
       "      <td>18.500</td>\n",
       "      <td>12.309</td>\n",
       "    </tr>\n",
       "    <tr>\n",
       "      <th>4</th>\n",
       "      <td>5</td>\n",
       "      <td>180.800</td>\n",
       "      <td>10.800</td>\n",
       "      <td>58.400</td>\n",
       "      <td>12.900</td>\n",
       "      <td>13.446</td>\n",
       "    </tr>\n",
       "  </tbody>\n",
       "</table>\n",
       "</div>"
      ],
      "text/plain": [
       "   Unnamed: 0      TV  Radio  Newspaper  Sales  sqrt_TV\n",
       "0           1 230.100 37.800     69.200 22.100   15.169\n",
       "1           2  44.500 39.300     45.100 10.400    6.671\n",
       "2           3  17.200 45.900     69.300  9.300    4.147\n",
       "3           4 151.500 41.300     58.500 18.500   12.309\n",
       "4           5 180.800 10.800     58.400 12.900   13.446"
      ]
     },
     "metadata": {},
     "output_type": "display_data"
    },
    {
     "name": "stdout",
     "output_type": "stream",
     "text": [
      "\n",
      "Coefficients: \n",
      " [[ 9.74947557e-01  1.94767873e-01 -5.25277959e-04]]\n",
      "\n",
      "Intercept: \n",
      " [-1.60927984]\n",
      "\n",
      "R-squared:\n",
      "0.9289549053811124\n"
     ]
    }
   ],
   "source": [
    "# Acquire, load, and preview the data.\n",
    "data = pd.read_csv('https://tf-curricula-prod.s3.amazonaws.com/data-science/Advertising.csv')\n",
    "data['sqrt_TV'] = np.sqrt(data.TV)\n",
    "display(data.head())\n",
    "\n",
    "# Instantiate and fit our model.\n",
    "regr = linear_model.LinearRegression()\n",
    "Y = data['Sales'].values.reshape(-1, 1)\n",
    "X = data[['sqrt_TV','Radio','Newspaper']]\n",
    "regr.fit(X, Y)\n",
    "\n",
    "# Inspect the results.\n",
    "print('\\nCoefficients: \\n', regr.coef_)\n",
    "print('\\nIntercept: \\n', regr.intercept_)\n",
    "print('\\nR-squared:')\n",
    "print(regr.score(X, Y))"
   ]
  },
  {
   "cell_type": "markdown",
   "metadata": {
    "run_control": {
     "frozen": false,
     "read_only": false
    }
   },
   "source": [
    "The model where the outcome Sales is predicted by the features TV, Radio, and Newspaper explains 89.7% of the variance in Sales.  Note that we don't know from these results how much of that variance is explained by each of the three features.  Looking at the coefficients, there appears to be a base rate of Sales that happen even with no ads in any medium (intercept: 2.939) and sales have the highest per-unit increase when ads are on the radio (0.189).  "
   ]
  },
  {
   "cell_type": "markdown",
   "metadata": {
    "run_control": {
     "frozen": false,
     "read_only": false
    }
   },
   "source": [
    "## Assumptions of Multivariable Linear Regression\n",
    "\n",
    "For regression to work its magic, inputs to the model need to be consistent with four assumptions:\n",
    "\n",
    "\n",
    "### Assumption one: linear relationship\n",
    "\n",
    "As mentioned earlier, features in a regression need to have a linear relationship with the outcome.  If the relationship is non-linear, the regression model will try to find any hint of a linear relationship, and only explain that – with predictable consequences for the validity of the model.\n",
    "\n",
    "Sometimes this can be fixed by applying a non-linear transformation function to a feature.  For example, if the relationship between feature and outcome is quadratic and all feature scores are > 0, we can take the square root of the features, resulting in a linear relationship between the outcome and sqrt(feature).  \n"
   ]
  },
  {
   "cell_type": "code",
   "execution_count": 40,
   "metadata": {
    "run_control": {
     "frozen": false,
     "read_only": false
    }
   },
   "outputs": [
    {
     "data": {
      "image/png": "[encoded data removed]",
      "text/plain": [
       "<Figure size 432x288 with 1 Axes>"
      ]
     },
     "metadata": {
      "needs_background": "light"
     },
     "output_type": "display_data"
    },
    {
     "data": {
      "image/png": "[encoded data removed]",
      "text/plain": [
       "<Figure size 432x288 with 1 Axes>"
      ]
     },
     "metadata": {
      "needs_background": "light"
     },
     "output_type": "display_data"
    }
   ],
   "source": [
    "# Sample data.\n",
    "outcome = [1, 2, 3, 4, 5, 6, 7, 8, 9, 10, 11, 12]\n",
    "feature = [3, 4, 10, 16, 25, 33, 49, 60, 85, 100, 130, 140]\n",
    "\n",
    "# Plot the data as-is. Looks a mite quadratic.\n",
    "plt.scatter(outcome, feature)\n",
    "plt.title('Raw values')\n",
    "plt.show()\n",
    "\n",
    "# Create a feature using a non-linear transformation.\n",
    "sqrt_feature = [math.sqrt(x) for x in  feature]\n",
    "\n",
    "\n",
    "# Well now isn't that nice.\n",
    "plt.scatter(outcome, sqrt_feature)\n",
    "plt.title('Transformed values')\n",
    "plt.show()"
   ]
  },
  {
   "cell_type": "markdown",
   "metadata": {
    "run_control": {
     "frozen": false,
     "read_only": false
    }
   },
   "source": [
    "When interpreting features with non-linear transformations, it is important to keep the transformation in mind.  For example, in the equation $y = 2log({x})$, y increases by one unit for every two-unit increase in $log({x})$.  The relationship between y and x, however, is non-linear, and the amount of change in y varies based on the absolute value of x:\n",
    "\n",
    "|x\t|log(x)|\ty|\n",
    "|--|--|--|\n",
    "|1\t|0\t|0|\n",
    "|10\t|1\t|2|\n",
    "|100\t|2\t|4|\t\n",
    "|1000|\t3\t|6|\n",
    "\n",
    "So a one-unit change in x from 1 to 2 will result in a much greater change in y than a one-unit change in x from 100 to 101.\n",
    "\n",
    "There are many variable transformations.  For a deep dive, check out the Variable Linearization section of [Fifty Ways to Fix Your Data](https://statswithcats.wordpress.com/2010/11/21/fifty-ways-to-fix-your-data/).\n",
    "\n",
    "### Assumption two: multivariate normality\n",
    "\n",
    "The error from the model (calculated by subtracting the model-predicted values from the real outcome values) should be normally distributed.  Since ordinary least squares regression models are fitted by choosing the parameters that best minimize error, skewness or outliers in the error can result in serious miss-estimations.\n",
    "\n",
    "Outliers or skewness in error can often be traced back to outliers or skewness in data.  "
   ]
  },
  {
   "cell_type": "code",
   "execution_count": 12,
   "metadata": {
    "run_control": {
     "frozen": false,
     "read_only": false
    }
   },
   "outputs": [
    {
     "data": {
      "image/png": "[encoded data removed]",
      "text/plain": [
       "<Figure size 432x288 with 1 Axes>"
      ]
     },
     "metadata": {
      "needs_background": "light"
     },
     "output_type": "display_data"
    }
   ],
   "source": [
    "# Extract predicted values.\n",
    "predicted = regr.predict(X).ravel()\n",
    "actual = data['Sales']\n",
    "\n",
    "# Calculate the error, also called the residual.\n",
    "residual = actual - predicted\n",
    "\n",
    "# This looks a bit concerning.\n",
    "plt.hist(residual)\n",
    "plt.title('Residual counts')\n",
    "plt.xlabel('Residual')\n",
    "plt.ylabel('Count')\n",
    "plt.show()\n",
    "\n",
    "#display(predicted)"
   ]
  },
  {
   "cell_type": "code",
   "execution_count": 15,
   "metadata": {},
   "outputs": [],
   "source": [
    "test = data\n",
    "test['predicted'] = predicted\n",
    "test['residuals'] = actual - predicted"
   ]
  },
  {
   "cell_type": "code",
   "execution_count": 16,
   "metadata": {},
   "outputs": [],
   "source": [
    "outlier_mask = test.residuals < -4\n",
    "higher_tv_mask = (test.TV > 270)\n",
    "lower_tv_mask = (test.TV < 9)"
   ]
  },
  {
   "cell_type": "code",
   "execution_count": 17,
   "metadata": {
    "scrolled": true
   },
   "outputs": [
    {
     "data": {
      "text/html": [
       "<div>\n",
       "<style scoped>\n",
       "    .dataframe tbody tr th:only-of-type {\n",
       "        vertical-align: middle;\n",
       "    }\n",
       "\n",
       "    .dataframe tbody tr th {\n",
       "        vertical-align: top;\n",
       "    }\n",
       "\n",
       "    .dataframe thead th {\n",
       "        text-align: right;\n",
       "    }\n",
       "</style>\n",
       "<table border=\"1\" class=\"dataframe\">\n",
       "  <thead>\n",
       "    <tr style=\"text-align: right;\">\n",
       "      <th></th>\n",
       "      <th>Unnamed: 0</th>\n",
       "      <th>TV</th>\n",
       "      <th>Radio</th>\n",
       "      <th>Newspaper</th>\n",
       "      <th>Sales</th>\n",
       "      <th>sqrt_TV</th>\n",
       "      <th>predicted</th>\n",
       "      <th>residuals</th>\n",
       "    </tr>\n",
       "  </thead>\n",
       "  <tbody>\n",
       "    <tr>\n",
       "      <th>130</th>\n",
       "      <td>131</td>\n",
       "      <td>0.700</td>\n",
       "      <td>39.600</td>\n",
       "      <td>8.700</td>\n",
       "      <td>1.600</td>\n",
       "      <td>0.837</td>\n",
       "      <td>6.915</td>\n",
       "      <td>-5.315</td>\n",
       "    </tr>\n",
       "  </tbody>\n",
       "</table>\n",
       "</div>"
      ],
      "text/plain": [
       "     Unnamed: 0    TV  Radio  Newspaper  Sales  sqrt_TV  predicted  residuals\n",
       "130         131 0.700 39.600      8.700  1.600    0.837      6.915     -5.315"
      ]
     },
     "execution_count": 17,
     "metadata": {},
     "output_type": "execute_result"
    }
   ],
   "source": [
    "test[outlier_mask]"
   ]
  },
  {
   "cell_type": "markdown",
   "metadata": {},
   "source": [
    "We notice residuals are largest when one or two media outlet spends are significantly low. This shows the synergistic relationship among these variables."
   ]
  },
  {
   "cell_type": "code",
   "execution_count": 63,
   "metadata": {
    "scrolled": true
   },
   "outputs": [
    {
     "data": {
      "text/html": [
       "<div>\n",
       "<style scoped>\n",
       "    .dataframe tbody tr th:only-of-type {\n",
       "        vertical-align: middle;\n",
       "    }\n",
       "\n",
       "    .dataframe tbody tr th {\n",
       "        vertical-align: top;\n",
       "    }\n",
       "\n",
       "    .dataframe thead th {\n",
       "        text-align: right;\n",
       "    }\n",
       "</style>\n",
       "<table border=\"1\" class=\"dataframe\">\n",
       "  <thead>\n",
       "    <tr style=\"text-align: right;\">\n",
       "      <th></th>\n",
       "      <th>Unnamed: 0</th>\n",
       "      <th>TV</th>\n",
       "      <th>Radio</th>\n",
       "      <th>Newspaper</th>\n",
       "      <th>Sales</th>\n",
       "      <th>predicted</th>\n",
       "      <th>residuals</th>\n",
       "    </tr>\n",
       "  </thead>\n",
       "  <tbody>\n",
       "    <tr>\n",
       "      <th>17</th>\n",
       "      <td>18</td>\n",
       "      <td>281.400</td>\n",
       "      <td>39.600</td>\n",
       "      <td>55.800</td>\n",
       "      <td>24.400</td>\n",
       "      <td>23.225</td>\n",
       "      <td>1.175</td>\n",
       "    </tr>\n",
       "    <tr>\n",
       "      <th>30</th>\n",
       "      <td>31</td>\n",
       "      <td>292.900</td>\n",
       "      <td>28.300</td>\n",
       "      <td>43.200</td>\n",
       "      <td>21.400</td>\n",
       "      <td>21.634</td>\n",
       "      <td>-0.234</td>\n",
       "    </tr>\n",
       "    <tr>\n",
       "      <th>35</th>\n",
       "      <td>36</td>\n",
       "      <td>290.700</td>\n",
       "      <td>4.100</td>\n",
       "      <td>8.500</td>\n",
       "      <td>12.800</td>\n",
       "      <td>17.007</td>\n",
       "      <td>-4.207</td>\n",
       "    </tr>\n",
       "    <tr>\n",
       "      <th>42</th>\n",
       "      <td>43</td>\n",
       "      <td>293.600</td>\n",
       "      <td>27.700</td>\n",
       "      <td>1.800</td>\n",
       "      <td>20.700</td>\n",
       "      <td>21.596</td>\n",
       "      <td>-0.896</td>\n",
       "    </tr>\n",
       "    <tr>\n",
       "      <th>98</th>\n",
       "      <td>99</td>\n",
       "      <td>289.700</td>\n",
       "      <td>42.300</td>\n",
       "      <td>51.200</td>\n",
       "      <td>25.400</td>\n",
       "      <td>24.119</td>\n",
       "      <td>1.281</td>\n",
       "    </tr>\n",
       "    <tr>\n",
       "      <th>101</th>\n",
       "      <td>102</td>\n",
       "      <td>296.400</td>\n",
       "      <td>36.300</td>\n",
       "      <td>100.900</td>\n",
       "      <td>23.800</td>\n",
       "      <td>23.242</td>\n",
       "      <td>0.558</td>\n",
       "    </tr>\n",
       "    <tr>\n",
       "      <th>102</th>\n",
       "      <td>103</td>\n",
       "      <td>280.200</td>\n",
       "      <td>10.100</td>\n",
       "      <td>21.400</td>\n",
       "      <td>14.800</td>\n",
       "      <td>17.644</td>\n",
       "      <td>-2.844</td>\n",
       "    </tr>\n",
       "    <tr>\n",
       "      <th>137</th>\n",
       "      <td>138</td>\n",
       "      <td>273.700</td>\n",
       "      <td>28.900</td>\n",
       "      <td>59.700</td>\n",
       "      <td>20.800</td>\n",
       "      <td>20.851</td>\n",
       "      <td>-0.051</td>\n",
       "    </tr>\n",
       "    <tr>\n",
       "      <th>150</th>\n",
       "      <td>151</td>\n",
       "      <td>280.700</td>\n",
       "      <td>13.900</td>\n",
       "      <td>37.000</td>\n",
       "      <td>16.100</td>\n",
       "      <td>18.367</td>\n",
       "      <td>-2.267</td>\n",
       "    </tr>\n",
       "    <tr>\n",
       "      <th>169</th>\n",
       "      <td>170</td>\n",
       "      <td>284.300</td>\n",
       "      <td>10.600</td>\n",
       "      <td>6.400</td>\n",
       "      <td>15.000</td>\n",
       "      <td>17.942</td>\n",
       "      <td>-2.942</td>\n",
       "    </tr>\n",
       "    <tr>\n",
       "      <th>175</th>\n",
       "      <td>176</td>\n",
       "      <td>276.900</td>\n",
       "      <td>48.900</td>\n",
       "      <td>41.800</td>\n",
       "      <td>27.000</td>\n",
       "      <td>24.787</td>\n",
       "      <td>2.213</td>\n",
       "    </tr>\n",
       "    <tr>\n",
       "      <th>178</th>\n",
       "      <td>179</td>\n",
       "      <td>276.700</td>\n",
       "      <td>2.300</td>\n",
       "      <td>23.700</td>\n",
       "      <td>11.800</td>\n",
       "      <td>16.011</td>\n",
       "      <td>-4.211</td>\n",
       "    </tr>\n",
       "    <tr>\n",
       "      <th>183</th>\n",
       "      <td>184</td>\n",
       "      <td>287.600</td>\n",
       "      <td>43.000</td>\n",
       "      <td>71.800</td>\n",
       "      <td>26.200</td>\n",
       "      <td>24.133</td>\n",
       "      <td>2.067</td>\n",
       "    </tr>\n",
       "    <tr>\n",
       "      <th>188</th>\n",
       "      <td>189</td>\n",
       "      <td>286.000</td>\n",
       "      <td>13.900</td>\n",
       "      <td>3.700</td>\n",
       "      <td>15.900</td>\n",
       "      <td>18.644</td>\n",
       "      <td>-2.744</td>\n",
       "    </tr>\n",
       "    <tr>\n",
       "      <th>198</th>\n",
       "      <td>199</td>\n",
       "      <td>283.600</td>\n",
       "      <td>42.000</td>\n",
       "      <td>66.200</td>\n",
       "      <td>25.500</td>\n",
       "      <td>23.767</td>\n",
       "      <td>1.733</td>\n",
       "    </tr>\n",
       "  </tbody>\n",
       "</table>\n",
       "</div>"
      ],
      "text/plain": [
       "     Unnamed: 0      TV  Radio  Newspaper  Sales  predicted  residuals\n",
       "17           18 281.400 39.600     55.800 24.400     23.225      1.175\n",
       "30           31 292.900 28.300     43.200 21.400     21.634     -0.234\n",
       "35           36 290.700  4.100      8.500 12.800     17.007     -4.207\n",
       "42           43 293.600 27.700      1.800 20.700     21.596     -0.896\n",
       "98           99 289.700 42.300     51.200 25.400     24.119      1.281\n",
       "101         102 296.400 36.300    100.900 23.800     23.242      0.558\n",
       "102         103 280.200 10.100     21.400 14.800     17.644     -2.844\n",
       "137         138 273.700 28.900     59.700 20.800     20.851     -0.051\n",
       "150         151 280.700 13.900     37.000 16.100     18.367     -2.267\n",
       "169         170 284.300 10.600      6.400 15.000     17.942     -2.942\n",
       "175         176 276.900 48.900     41.800 27.000     24.787      2.213\n",
       "178         179 276.700  2.300     23.700 11.800     16.011     -4.211\n",
       "183         184 287.600 43.000     71.800 26.200     24.133      2.067\n",
       "188         189 286.000 13.900      3.700 15.900     18.644     -2.744\n",
       "198         199 283.600 42.000     66.200 25.500     23.767      1.733"
      ]
     },
     "execution_count": 63,
     "metadata": {},
     "output_type": "execute_result"
    }
   ],
   "source": [
    "test[higher_tv_mask]"
   ]
  },
  {
   "cell_type": "code",
   "execution_count": 64,
   "metadata": {
    "scrolled": true
   },
   "outputs": [
    {
     "data": {
      "text/html": [
       "<div>\n",
       "<style scoped>\n",
       "    .dataframe tbody tr th:only-of-type {\n",
       "        vertical-align: middle;\n",
       "    }\n",
       "\n",
       "    .dataframe tbody tr th {\n",
       "        vertical-align: top;\n",
       "    }\n",
       "\n",
       "    .dataframe thead th {\n",
       "        text-align: right;\n",
       "    }\n",
       "</style>\n",
       "<table border=\"1\" class=\"dataframe\">\n",
       "  <thead>\n",
       "    <tr style=\"text-align: right;\">\n",
       "      <th></th>\n",
       "      <th>Unnamed: 0</th>\n",
       "      <th>TV</th>\n",
       "      <th>Radio</th>\n",
       "      <th>Newspaper</th>\n",
       "      <th>Sales</th>\n",
       "      <th>predicted</th>\n",
       "      <th>residuals</th>\n",
       "    </tr>\n",
       "  </thead>\n",
       "  <tbody>\n",
       "    <tr>\n",
       "      <th>5</th>\n",
       "      <td>6</td>\n",
       "      <td>8.700</td>\n",
       "      <td>48.900</td>\n",
       "      <td>75.000</td>\n",
       "      <td>7.200</td>\n",
       "      <td>12.478</td>\n",
       "      <td>-5.278</td>\n",
       "    </tr>\n",
       "    <tr>\n",
       "      <th>8</th>\n",
       "      <td>9</td>\n",
       "      <td>8.600</td>\n",
       "      <td>2.100</td>\n",
       "      <td>1.000</td>\n",
       "      <td>4.800</td>\n",
       "      <td>3.727</td>\n",
       "      <td>1.073</td>\n",
       "    </tr>\n",
       "    <tr>\n",
       "      <th>56</th>\n",
       "      <td>57</td>\n",
       "      <td>7.300</td>\n",
       "      <td>28.100</td>\n",
       "      <td>41.400</td>\n",
       "      <td>5.500</td>\n",
       "      <td>8.528</td>\n",
       "      <td>-3.028</td>\n",
       "    </tr>\n",
       "    <tr>\n",
       "      <th>78</th>\n",
       "      <td>79</td>\n",
       "      <td>5.400</td>\n",
       "      <td>29.900</td>\n",
       "      <td>9.400</td>\n",
       "      <td>5.300</td>\n",
       "      <td>8.813</td>\n",
       "      <td>-3.513</td>\n",
       "    </tr>\n",
       "    <tr>\n",
       "      <th>126</th>\n",
       "      <td>127</td>\n",
       "      <td>7.800</td>\n",
       "      <td>38.900</td>\n",
       "      <td>50.600</td>\n",
       "      <td>6.600</td>\n",
       "      <td>10.577</td>\n",
       "      <td>-3.977</td>\n",
       "    </tr>\n",
       "    <tr>\n",
       "      <th>130</th>\n",
       "      <td>131</td>\n",
       "      <td>0.700</td>\n",
       "      <td>39.600</td>\n",
       "      <td>8.700</td>\n",
       "      <td>1.600</td>\n",
       "      <td>10.428</td>\n",
       "      <td>-8.828</td>\n",
       "    </tr>\n",
       "    <tr>\n",
       "      <th>132</th>\n",
       "      <td>133</td>\n",
       "      <td>8.400</td>\n",
       "      <td>27.200</td>\n",
       "      <td>2.100</td>\n",
       "      <td>5.700</td>\n",
       "      <td>8.449</td>\n",
       "      <td>-2.749</td>\n",
       "    </tr>\n",
       "    <tr>\n",
       "      <th>155</th>\n",
       "      <td>156</td>\n",
       "      <td>4.100</td>\n",
       "      <td>11.600</td>\n",
       "      <td>5.700</td>\n",
       "      <td>3.200</td>\n",
       "      <td>5.308</td>\n",
       "      <td>-2.108</td>\n",
       "    </tr>\n",
       "  </tbody>\n",
       "</table>\n",
       "</div>"
      ],
      "text/plain": [
       "     Unnamed: 0    TV  Radio  Newspaper  Sales  predicted  residuals\n",
       "5             6 8.700 48.900     75.000  7.200     12.478     -5.278\n",
       "8             9 8.600  2.100      1.000  4.800      3.727      1.073\n",
       "56           57 7.300 28.100     41.400  5.500      8.528     -3.028\n",
       "78           79 5.400 29.900      9.400  5.300      8.813     -3.513\n",
       "126         127 7.800 38.900     50.600  6.600     10.577     -3.977\n",
       "130         131 0.700 39.600      8.700  1.600     10.428     -8.828\n",
       "132         133 8.400 27.200      2.100  5.700      8.449     -2.749\n",
       "155         156 4.100 11.600      5.700  3.200      5.308     -2.108"
      ]
     },
     "execution_count": 64,
     "metadata": {},
     "output_type": "execute_result"
    }
   ],
   "source": [
    "test[lower_tv_mask]"
   ]
  },
  {
   "cell_type": "markdown",
   "metadata": {},
   "source": [
    "When TV is low, predictability is off"
   ]
  },
  {
   "cell_type": "markdown",
   "metadata": {
    "run_control": {
     "frozen": false,
     "read_only": false
    }
   },
   "source": [
    "\n",
    "### Assumption three: homoscedasticity\n",
    "\n",
    "The distribution of your error terms (its \"scedasticity\"), should be consistent for all predicted values, or **homoscedastic**.\n",
    "\n",
    "For example, if your error terms aren't consistently distributed and you have more variance in the error for large outcome values than for small ones, then the confidence interval for large predicted values will be too small because it will be based on the average error variance.  This leads to overconfidence in the accuracy of your model's predictions.\n",
    "\n",
    "Some fixes to heteroscedasticity include transforming the dependent variable and adding features that target the poorly-estimated areas. For example, if a model tracks data over time and model error variance jumps in the September to November period, a binary feature indicating season may be enough to resolve the problem."
   ]
  },
  {
   "cell_type": "code",
   "execution_count": 13,
   "metadata": {
    "run_control": {
     "frozen": false,
     "read_only": false
    },
    "scrolled": true
   },
   "outputs": [
    {
     "data": {
      "image/png": "[encoded data removed]",
      "text/plain": [
       "<Figure size 432x288 with 1 Axes>"
      ]
     },
     "metadata": {
      "needs_background": "light"
     },
     "output_type": "display_data"
    }
   ],
   "source": [
    "plt.scatter(predicted, residual)\n",
    "plt.xlabel('Predicted')\n",
    "plt.ylabel('Residual')\n",
    "plt.axhline(y=0)\n",
    "plt.title('Residual vs. Predicted')\n",
    "plt.show()\n",
    "\n",
    "# Hm... looks a bit concerning.\n"
   ]
  },
  {
   "cell_type": "code",
   "execution_count": 18,
   "metadata": {
    "scrolled": false
   },
   "outputs": [
    {
     "ename": "TypeError",
     "evalue": "'Series' object is not callable",
     "output_type": "error",
     "traceback": [
      "\u001b[0;31m---------------------------------------------------------------------------\u001b[0m",
      "\u001b[0;31mTypeError\u001b[0m                                 Traceback (most recent call last)",
      "\u001b[0;32m<ipython-input-18-868637b9070d>\u001b[0m in \u001b[0;36m<module>\u001b[0;34m\u001b[0m\n\u001b[0;32m----> 1\u001b[0;31m \u001b[0mz\u001b[0m \u001b[0;34m=\u001b[0m \u001b[0;34m(\u001b[0m\u001b[0mdata\u001b[0m\u001b[0;34m.\u001b[0m\u001b[0mpredicted\u001b[0m \u001b[0;34m-\u001b[0m \u001b[0;36m10\u001b[0m\u001b[0;34m)\u001b[0m\u001b[0;34m(\u001b[0m\u001b[0mdata\u001b[0m\u001b[0;34m.\u001b[0m\u001b[0mpredicted\u001b[0m \u001b[0;34m-\u001b[0m \u001b[0;36m20\u001b[0m\u001b[0;34m)\u001b[0m\u001b[0;34m/\u001b[0m\u001b[0;36m35\u001b[0m\u001b[0;34m\u001b[0m\u001b[0;34m\u001b[0m\u001b[0m\n\u001b[0m",
      "\u001b[0;31mTypeError\u001b[0m: 'Series' object is not callable"
     ]
    }
   ],
   "source": [
    "z = (predicted - 10)(predicted - 20) / 35"
   ]
  },
  {
   "cell_type": "code",
   "execution_count": 32,
   "metadata": {},
   "outputs": [],
   "source": [
    "z = data.predicted.subtract(10) * (data.predicted.subtract(20)) / 35"
   ]
  },
  {
   "cell_type": "code",
   "execution_count": 33,
   "metadata": {
    "scrolled": true
   },
   "outputs": [
    {
     "data": {
      "text/plain": [
       "0    0.152\n",
       "1   -0.539\n",
       "2   -0.331\n",
       "3   -0.383\n",
       "4   -0.656\n",
       "Name: predicted, dtype: float64"
      ]
     },
     "metadata": {},
     "output_type": "display_data"
    },
    {
     "data": {
      "text/plain": [
       "array([20.50562226, 12.52511892, 11.33755233, 18.40407934, 13.57286613,\n",
       "       10.75115545, 12.15966825, 12.89098894,  1.65831489, 12.66692568,\n",
       "        7.43417161, 17.34860827,  9.9487621 ,  9.49400977, 18.70286938,\n",
       "       21.28171855, 13.48713446, 22.42894453, 10.48410011, 14.86830614,\n",
       "       18.16586888, 14.39347974,  5.00363593, 16.39960215,  8.53047787,\n",
       "       14.87015101, 15.74540026, 16.73828369, 19.03513389,  9.67745524,\n",
       "       20.56552489, 12.11865333,  8.27912748, 18.17487342,  8.19706684,\n",
       "       15.80758795, 22.84671738, 16.41463789,  9.97317337, 20.43804536,\n",
       "       16.5911919 , 17.84647248, 20.49033714, 14.03656706,  8.25798749,\n",
       "       15.65747936,  9.53390618, 21.5645449 , 16.13737678,  8.62450607,\n",
       "       12.75727089, 10.02755581, 20.83374492, 20.53258624, 19.79365513,\n",
       "       21.73060814,  6.47611413, 13.49964536, 22.18662157, 18.28334732,\n",
       "        5.90014156, 22.43838501, 16.47706222, 14.03165373, 17.87464768,\n",
       "        8.30011127,  8.65273382, 12.71635607, 18.76284606, 21.28199666,\n",
       "       18.08707178, 11.37528569,  9.85510046, 10.57488606, 17.41737404,\n",
       "       10.8630877 ,  3.80414363, 14.63638788,  6.47491534, 10.37880541,\n",
       "       12.1010419 , 14.26741373, 10.7875997 , 15.1024254 , 20.99356624,\n",
       "       15.4913586 , 12.25458657, 16.52291804, 12.48014049, 17.88966145,\n",
       "       10.6386579 ,  3.8794567 , 19.2694725 , 20.90476689, 11.21551357,\n",
       "       16.9763442 , 12.77417243, 15.72642536, 23.19667574, 17.82468507,\n",
       "       13.74153556, 22.19275512, 16.6664531 , 15.09557677, 20.11555091,\n",
       "       18.84584822,  5.39230379,  7.70665963,  1.98389779, 19.20795684,\n",
       "       14.60832741, 20.93693381, 14.31199757, 16.51218826, 16.10927024,\n",
       "       13.62883407, 12.66518223,  7.06049358, 16.4667758 ,  5.78949097,\n",
       "       15.17540139,  6.81798087, 13.44164764, 15.9402611 , 19.41247834,\n",
       "        9.77952832,  8.66349169,  7.1169771 , 22.40333052,  8.23199133,\n",
       "        6.91465766, 14.80994434,  6.51296969, 19.34598848, 11.79665685,\n",
       "       14.31605549, 10.91466993, 20.11756901,  9.81759854, 20.19727279,\n",
       "       10.04774411, 18.81473634, 19.31433812,  9.45401991, 10.81529287,\n",
       "       10.30413979, 14.91492463, 23.11525746, 12.243595  ,  9.92322065,\n",
       "       17.41293106, 10.72561239, 16.62621651, 18.86347388, 15.85602712,\n",
       "        2.62115175, 16.28403412, 10.56381128,  8.88874584, 13.14483306,\n",
       "       14.70478125, 14.36302203, 15.28459247, 18.02066431, 11.80565116,\n",
       "       13.93814229,  9.82749248, 13.4135974 , 17.26581533, 16.8906817 ,\n",
       "        7.53428266, 14.94090937,  6.61290151, 12.41864795, 13.58552218,\n",
       "       24.11634455, 19.62791312, 12.61065602, 15.0438092 , 12.87533133,\n",
       "       11.09324292, 13.83950073,  6.79415241, 23.26193858, 18.05550616,\n",
       "       21.12358045, 10.30087742, 17.44856814, 17.58390934,  4.95113406,\n",
       "       12.52008351,  8.9624526 ,  3.21605823, 19.16063226, 17.24997838,\n",
       "        5.12988781,  8.80334573, 13.16953322, 22.95473112, 14.9143128 ])"
      ]
     },
     "execution_count": 33,
     "metadata": {},
     "output_type": "execute_result"
    }
   ],
   "source": [
    "display(z.head())\n",
    "predicted"
   ]
  },
  {
   "cell_type": "code",
   "execution_count": 34,
   "metadata": {
    "scrolled": true
   },
   "outputs": [
    {
     "data": {
      "image/png": "[encoded data removed]",
      "text/plain": [
       "<Figure size 432x288 with 1 Axes>"
      ]
     },
     "metadata": {
      "needs_background": "light"
     },
     "output_type": "display_data"
    }
   ],
   "source": [
    "plt.scatter(z, residual)\n",
    "plt.xlabel('Predicted')\n",
    "plt.ylabel('Residual')\n",
    "plt.axhline(y=0)\n",
    "plt.title('Residual vs. Predicted')\n",
    "plt.show()\n",
    "\n",
    "# Hm... looks a bit concerning.\n"
   ]
  },
  {
   "cell_type": "code",
   "execution_count": 37,
   "metadata": {},
   "outputs": [
    {
     "ename": "ValueError",
     "evalue": "Expected 2D array, got 1D array instead:\narray=[ 0.1517679  -0.53928468 -0.3310422  -0.38320697 -0.65609397 -0.19849486\n -0.48378616 -0.58720207  4.37144461 -0.55876469  0.92119312 -0.55668683\n  0.01471441  0.15188367 -0.32253595  0.41314251 -0.64889251  0.86254905\n -0.13161852 -0.71379019 -0.42792212 -0.70377523  2.14077984 -0.65831754\n  0.48156333 -0.71380398 -0.69841081 -0.62795342 -0.24907699  0.09512808\n  0.17071621 -0.47708118  0.57628935 -0.42629082  0.60799713 -0.69565148\n  1.04488496 -0.65710856  0.00768531  0.13063821 -0.64194595 -0.48278841\n  0.14696577 -0.68776563  0.58442093 -0.70193488  0.13937662  0.51694999\n -0.67732497  0.44705494 -0.57057618 -0.00785139  0.25807371  0.16027173\n -0.05773916  0.58003103  1.36161801 -0.6499696   0.76135799 -0.40627515\n  1.65164068  0.86655919 -0.65195106 -0.68749444 -0.47818288  0.56824311\n  0.43679394 -0.56528487 -0.30974256  0.41324234 -0.44199965 -0.33889846\n  0.04199975 -0.15481047 -0.54732294 -0.22531305  2.86706285 -0.71050818\n  1.36220196 -0.1041303  -0.47417263 -0.69895192 -0.20730525 -0.71398597\n  0.31208104 -0.70738762 -0.49893443 -0.64802059 -0.53286594 -0.47571019\n -0.17081986  2.81904238 -0.19347442  0.28189349 -0.30507607 -0.60268753\n -0.57273405 -0.69920875  1.2052998  -0.48631869 -0.66903621  0.76387789\n -0.63494097 -0.71402472  0.03339603 -0.29169861  1.92308075  0.80550896\n  4.12625476 -0.20837426 -0.70990265  0.29277666 -0.7007615  -0.64895105\n -0.67912913 -0.66056869 -0.55853217  1.08673606 -0.65281625  1.7095279\n -0.7134067   1.19844106 -0.64490108 -0.68902597 -0.158001    0.0643807\n  0.43289536  1.06120143  0.85169437  0.59445547  1.15350745 -0.71325368\n  1.34370524 -0.17463955 -0.42110265 -0.70092057 -0.23743081  0.03398607\n  0.05306528  0.05747556 -0.01357605 -0.29850819 -0.18247105  0.16451129\n -0.21394932 -0.0842542  -0.71407892  1.16735439 -0.49720661  0.02210539\n -0.54793611 -0.19227459 -0.63872628 -0.28781627 -0.69334907  3.6638824\n -0.66717875 -0.15200656  0.35278364 -0.61595302 -0.7117956  -0.70269312\n -0.71197163 -0.4535882  -0.42274673 -0.68207023  0.05013812 -0.64238077\n -0.56760231 -0.61215208  0.87819815 -0.71418595  1.29552631 -0.52390347\n -0.6571215   1.66022108 -0.10235486 -0.55117244 -0.71423088 -0.58530809\n -0.27820712 -0.6758069   1.20959813  1.2359894  -0.44753949  0.3570925\n -0.08337848 -0.54298612 -0.52352607  2.17084876 -0.53857183  0.32719939\n  3.25317953 -0.21968969 -0.56964564  2.06911756  0.38281497 -0.61855404\n  1.09364992 -0.71407593].\nReshape your data either using array.reshape(-1, 1) if your data has a single feature or array.reshape(1, -1) if it contains a single sample.",
     "output_type": "error",
     "traceback": [
      "\u001b[0;31m---------------------------------------------------------------------------\u001b[0m",
      "\u001b[0;31mValueError\u001b[0m                                Traceback (most recent call last)",
      "\u001b[0;32m<ipython-input-37-342d7b3e6271>\u001b[0m in \u001b[0;36m<module>\u001b[0;34m\u001b[0m\n\u001b[0;32m----> 1\u001b[0;31m \u001b[0mprint\u001b[0m\u001b[0;34m(\u001b[0m\u001b[0mregr\u001b[0m\u001b[0;34m.\u001b[0m\u001b[0mscore\u001b[0m\u001b[0;34m(\u001b[0m\u001b[0mz\u001b[0m\u001b[0;34m,\u001b[0m \u001b[0mY\u001b[0m\u001b[0;34m)\u001b[0m\u001b[0;34m)\u001b[0m\u001b[0;34m\u001b[0m\u001b[0;34m\u001b[0m\u001b[0m\n\u001b[0m",
      "\u001b[0;32m/opt/conda/lib/python3.7/site-packages/sklearn/base.py\u001b[0m in \u001b[0;36mscore\u001b[0;34m(self, X, y, sample_weight)\u001b[0m\n\u001b[1;32m    326\u001b[0m \u001b[0;34m\u001b[0m\u001b[0m\n\u001b[1;32m    327\u001b[0m         \u001b[0;32mfrom\u001b[0m \u001b[0;34m.\u001b[0m\u001b[0mmetrics\u001b[0m \u001b[0;32mimport\u001b[0m \u001b[0mr2_score\u001b[0m\u001b[0;34m\u001b[0m\u001b[0;34m\u001b[0m\u001b[0m\n\u001b[0;32m--> 328\u001b[0;31m         return r2_score(y, self.predict(X), sample_weight=sample_weight,\n\u001b[0m\u001b[1;32m    329\u001b[0m                         multioutput='variance_weighted')\n\u001b[1;32m    330\u001b[0m \u001b[0;34m\u001b[0m\u001b[0m\n",
      "\u001b[0;32m/opt/conda/lib/python3.7/site-packages/sklearn/linear_model/base.py\u001b[0m in \u001b[0;36mpredict\u001b[0;34m(self, X)\u001b[0m\n\u001b[1;32m    211\u001b[0m             \u001b[0mReturns\u001b[0m \u001b[0mpredicted\u001b[0m \u001b[0mvalues\u001b[0m\u001b[0;34m.\u001b[0m\u001b[0;34m\u001b[0m\u001b[0;34m\u001b[0m\u001b[0m\n\u001b[1;32m    212\u001b[0m         \"\"\"\n\u001b[0;32m--> 213\u001b[0;31m         \u001b[0;32mreturn\u001b[0m \u001b[0mself\u001b[0m\u001b[0;34m.\u001b[0m\u001b[0m_decision_function\u001b[0m\u001b[0;34m(\u001b[0m\u001b[0mX\u001b[0m\u001b[0;34m)\u001b[0m\u001b[0;34m\u001b[0m\u001b[0;34m\u001b[0m\u001b[0m\n\u001b[0m\u001b[1;32m    214\u001b[0m \u001b[0;34m\u001b[0m\u001b[0m\n\u001b[1;32m    215\u001b[0m     \u001b[0m_preprocess_data\u001b[0m \u001b[0;34m=\u001b[0m \u001b[0mstaticmethod\u001b[0m\u001b[0;34m(\u001b[0m\u001b[0m_preprocess_data\u001b[0m\u001b[0;34m)\u001b[0m\u001b[0;34m\u001b[0m\u001b[0;34m\u001b[0m\u001b[0m\n",
      "\u001b[0;32m/opt/conda/lib/python3.7/site-packages/sklearn/linear_model/base.py\u001b[0m in \u001b[0;36m_decision_function\u001b[0;34m(self, X)\u001b[0m\n\u001b[1;32m    194\u001b[0m         \u001b[0mcheck_is_fitted\u001b[0m\u001b[0;34m(\u001b[0m\u001b[0mself\u001b[0m\u001b[0;34m,\u001b[0m \u001b[0;34m\"coef_\"\u001b[0m\u001b[0;34m)\u001b[0m\u001b[0;34m\u001b[0m\u001b[0;34m\u001b[0m\u001b[0m\n\u001b[1;32m    195\u001b[0m \u001b[0;34m\u001b[0m\u001b[0m\n\u001b[0;32m--> 196\u001b[0;31m         \u001b[0mX\u001b[0m \u001b[0;34m=\u001b[0m \u001b[0mcheck_array\u001b[0m\u001b[0;34m(\u001b[0m\u001b[0mX\u001b[0m\u001b[0;34m,\u001b[0m \u001b[0maccept_sparse\u001b[0m\u001b[0;34m=\u001b[0m\u001b[0;34m[\u001b[0m\u001b[0;34m'csr'\u001b[0m\u001b[0;34m,\u001b[0m \u001b[0;34m'csc'\u001b[0m\u001b[0;34m,\u001b[0m \u001b[0;34m'coo'\u001b[0m\u001b[0;34m]\u001b[0m\u001b[0;34m)\u001b[0m\u001b[0;34m\u001b[0m\u001b[0;34m\u001b[0m\u001b[0m\n\u001b[0m\u001b[1;32m    197\u001b[0m         return safe_sparse_dot(X, self.coef_.T,\n\u001b[1;32m    198\u001b[0m                                dense_output=True) + self.intercept_\n",
      "\u001b[0;32m/opt/conda/lib/python3.7/site-packages/sklearn/utils/validation.py\u001b[0m in \u001b[0;36mcheck_array\u001b[0;34m(array, accept_sparse, accept_large_sparse, dtype, order, copy, force_all_finite, ensure_2d, allow_nd, ensure_min_samples, ensure_min_features, warn_on_dtype, estimator)\u001b[0m\n\u001b[1;32m    550\u001b[0m                     \u001b[0;34m\"Reshape your data either using array.reshape(-1, 1) if \"\u001b[0m\u001b[0;34m\u001b[0m\u001b[0;34m\u001b[0m\u001b[0m\n\u001b[1;32m    551\u001b[0m                     \u001b[0;34m\"your data has a single feature or array.reshape(1, -1) \"\u001b[0m\u001b[0;34m\u001b[0m\u001b[0;34m\u001b[0m\u001b[0m\n\u001b[0;32m--> 552\u001b[0;31m                     \"if it contains a single sample.\".format(array))\n\u001b[0m\u001b[1;32m    553\u001b[0m \u001b[0;34m\u001b[0m\u001b[0m\n\u001b[1;32m    554\u001b[0m         \u001b[0;31m# in the future np.flexible dtypes will be handled like object dtypes\u001b[0m\u001b[0;34m\u001b[0m\u001b[0;34m\u001b[0m\u001b[0;34m\u001b[0m\u001b[0m\n",
      "\u001b[0;31mValueError\u001b[0m: Expected 2D array, got 1D array instead:\narray=[ 0.1517679  -0.53928468 -0.3310422  -0.38320697 -0.65609397 -0.19849486\n -0.48378616 -0.58720207  4.37144461 -0.55876469  0.92119312 -0.55668683\n  0.01471441  0.15188367 -0.32253595  0.41314251 -0.64889251  0.86254905\n -0.13161852 -0.71379019 -0.42792212 -0.70377523  2.14077984 -0.65831754\n  0.48156333 -0.71380398 -0.69841081 -0.62795342 -0.24907699  0.09512808\n  0.17071621 -0.47708118  0.57628935 -0.42629082  0.60799713 -0.69565148\n  1.04488496 -0.65710856  0.00768531  0.13063821 -0.64194595 -0.48278841\n  0.14696577 -0.68776563  0.58442093 -0.70193488  0.13937662  0.51694999\n -0.67732497  0.44705494 -0.57057618 -0.00785139  0.25807371  0.16027173\n -0.05773916  0.58003103  1.36161801 -0.6499696   0.76135799 -0.40627515\n  1.65164068  0.86655919 -0.65195106 -0.68749444 -0.47818288  0.56824311\n  0.43679394 -0.56528487 -0.30974256  0.41324234 -0.44199965 -0.33889846\n  0.04199975 -0.15481047 -0.54732294 -0.22531305  2.86706285 -0.71050818\n  1.36220196 -0.1041303  -0.47417263 -0.69895192 -0.20730525 -0.71398597\n  0.31208104 -0.70738762 -0.49893443 -0.64802059 -0.53286594 -0.47571019\n -0.17081986  2.81904238 -0.19347442  0.28189349 -0.30507607 -0.60268753\n -0.57273405 -0.69920875  1.2052998  -0.48631869 -0.66903621  0.76387789\n -0.63494097 -0.71402472  0.03339603 -0.29169861  1.92308075  0.80550896\n  4.12625476 -0.20837426 -0.70990265  0.29277666 -0.7007615  -0.64895105\n -0.67912913 -0.66056869 -0.55853217  1.08673606 -0.65281625  1.7095279\n -0.7134067   1.19844106 -0.64490108 -0.68902597 -0.158001    0.0643807\n  0.43289536  1.06120143  0.85169437  0.59445547  1.15350745 -0.71325368\n  1.34370524 -0.17463955 -0.42110265 -0.70092057 -0.23743081  0.03398607\n  0.05306528  0.05747556 -0.01357605 -0.29850819 -0.18247105  0.16451129\n -0.21394932 -0.0842542  -0.71407892  1.16735439 -0.49720661  0.02210539\n -0.54793611 -0.19227459 -0.63872628 -0.28781627 -0.69334907  3.6638824\n -0.66717875 -0.15200656  0.35278364 -0.61595302 -0.7117956  -0.70269312\n -0.71197163 -0.4535882  -0.42274673 -0.68207023  0.05013812 -0.64238077\n -0.56760231 -0.61215208  0.87819815 -0.71418595  1.29552631 -0.52390347\n -0.6571215   1.66022108 -0.10235486 -0.55117244 -0.71423088 -0.58530809\n -0.27820712 -0.6758069   1.20959813  1.2359894  -0.44753949  0.3570925\n -0.08337848 -0.54298612 -0.52352607  2.17084876 -0.53857183  0.32719939\n  3.25317953 -0.21968969 -0.56964564  2.06911756  0.38281497 -0.61855404\n  1.09364992 -0.71407593].\nReshape your data either using array.reshape(-1, 1) if your data has a single feature or array.reshape(1, -1) if it contains a single sample."
     ]
    }
   ],
   "source": [
    "print(regr.score(z, Y))"
   ]
  },
  {
   "cell_type": "markdown",
   "metadata": {
    "run_control": {
     "frozen": false,
     "read_only": false
    }
   },
   "source": [
    "### Assumption four: low multicollinearity\n",
    "\n",
    "Correlations among features should be low or nonexistent.  When features are correlated, they may both explain the same pattern of variance in the outcome.  The model will attempt to find a solution, potentially by attributing half the explanatory power to one feature and half to the other.  This isn’t a problem if our only goal is prediction, because then all that matters is that the variance gets explained.  However, if we want to know which features matter most when predicting an outcome, multicollinearity can cause us to underestimate the relationship between features and outcomes.\n",
    "\n",
    "Multicollinearity can be fixed by PCA or by discarding some of the correlated features."
   ]
  },
  {
   "cell_type": "code",
   "execution_count": 6,
   "metadata": {
    "run_control": {
     "frozen": false,
     "read_only": false
    }
   },
   "outputs": [
    {
     "data": {
      "text/html": [
       "<div>\n",
       "<table border=\"1\" class=\"dataframe\">\n",
       "  <thead>\n",
       "    <tr style=\"text-align: right;\">\n",
       "      <th></th>\n",
       "      <th>TV</th>\n",
       "      <th>Radio</th>\n",
       "      <th>Newspaper</th>\n",
       "    </tr>\n",
       "  </thead>\n",
       "  <tbody>\n",
       "    <tr>\n",
       "      <th>TV</th>\n",
       "      <td>1.000</td>\n",
       "      <td>0.055</td>\n",
       "      <td>0.057</td>\n",
       "    </tr>\n",
       "    <tr>\n",
       "      <th>Radio</th>\n",
       "      <td>0.055</td>\n",
       "      <td>1.000</td>\n",
       "      <td>0.354</td>\n",
       "    </tr>\n",
       "    <tr>\n",
       "      <th>Newspaper</th>\n",
       "      <td>0.057</td>\n",
       "      <td>0.354</td>\n",
       "      <td>1.000</td>\n",
       "    </tr>\n",
       "  </tbody>\n",
       "</table>\n",
       "</div>"
      ],
      "text/plain": [
       "             TV  Radio  Newspaper\n",
       "TV        1.000  0.055      0.057\n",
       "Radio     0.055  1.000      0.354\n",
       "Newspaper 0.057  0.354      1.000"
      ]
     },
     "metadata": {},
     "output_type": "display_data"
    }
   ],
   "source": [
    "correlation_matrix = X.corr()\n",
    "display(correlation_matrix)"
   ]
  },
  {
   "cell_type": "markdown",
   "metadata": {},
   "source": [
    "## Drill: fixing assumptions\n",
    "\n",
    "Judging from the diagnostic plots, your data has a problem with both heteroscedasticity and multivariate non-normality.  Use the cell(s) below to see what you can do to fix it."
   ]
  },
  {
   "cell_type": "code",
   "execution_count": 7,
   "metadata": {
    "collapsed": true,
    "run_control": {
     "frozen": false,
     "read_only": false
    }
   },
   "outputs": [],
   "source": [
    "# Your code here.\n",
    "\n"
   ]
  }
 ],
 "metadata": {
  "hide_input": false,
  "kernelspec": {
   "display_name": "Python 3",
   "language": "python",
   "name": "python3"
  },
  "language_info": {
   "codemirror_mode": {
    "name": "ipython",
    "version": 3
   },
   "file_extension": ".py",
   "mimetype": "text/x-python",
   "name": "python",
   "nbconvert_exporter": "python",
   "pygments_lexer": "ipython3",
   "version": "3.7.1"
  },
  "toc": {
   "colors": {
    "hover_highlight": "#DAA520",
    "running_highlight": "#FF0000",
    "selected_highlight": "#FFD700"
   },
   "moveMenuLeft": true,
   "nav_menu": {
    "height": "59px",
    "width": "252px"
   },
   "navigate_menu": true,
   "number_sections": true,
   "sideBar": true,
   "threshold": 4,
   "toc_cell": false,
   "toc_section_display": "block",
   "toc_window_display": false
  }
 },
 "nbformat": 4,
 "nbformat_minor": 2
}
