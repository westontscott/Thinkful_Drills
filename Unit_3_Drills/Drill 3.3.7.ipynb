{
 "cells": [
  {
   "cell_type": "code",
   "execution_count": 12,
   "metadata": {},
   "outputs": [],
   "source": [
    "import pandas as pd\n",
    "import numpy as np\n",
    "import matplotlib.pyplot as plt\n",
    "import os\n",
    "%matplotlib inline"
   ]
  },
  {
   "cell_type": "code",
   "execution_count": 21,
   "metadata": {},
   "outputs": [],
   "source": [
    "np.random.seed(10)"
   ]
  },
  {
   "cell_type": "code",
   "execution_count": 22,
   "metadata": {},
   "outputs": [],
   "source": [
    "pop1 = np.random.binomial(10, 0.2, 10000)\n",
    "pop2 = np.random.binomial(10,0.5, 10000)"
   ]
  },
  {
   "cell_type": "code",
   "execution_count": 24,
   "metadata": {},
   "outputs": [
    {
     "data": {
      "image/png": "[encoded data removed]",
      "text/plain": [
       "<Figure size 432x288 with 1 Axes>"
      ]
     },
     "metadata": {
      "needs_background": "light"
     },
     "output_type": "display_data"
    }
   ],
   "source": [
    "plt.hist(pop1, alpha=0.5, label='Population 1') \n",
    "plt.hist(pop2, alpha=0.5, label='Population 2') \n",
    "plt.legend(loc='upper right') \n",
    "plt.show()"
   ]
  },
  {
   "cell_type": "code",
   "execution_count": 26,
   "metadata": {},
   "outputs": [
    {
     "data": {
      "image/png": "[encoded data removed]",
      "text/plain": [
       "<Figure size 432x288 with 1 Axes>"
      ]
     },
     "metadata": {
      "needs_background": "light"
     },
     "output_type": "display_data"
    },
    {
     "name": "stdout",
     "output_type": "stream",
     "text": [
      "Sample 1 has mean 2.27 and standard deviation 1.2235603785674003\n",
      "Sample 2 has mean 5.14 and standard deviation 1.703056076587028\n"
     ]
    }
   ],
   "source": [
    "sample1 = np.random.choice(pop1, 100, replace=True)\n",
    "sample2 = np.random.choice(pop2, 100, replace=True)\n",
    "\n",
    "plt.hist(sample1, alpha=0.5, label='sample 1') \n",
    "plt.hist(sample2, alpha=0.5, label='sample 2') \n",
    "plt.legend(loc='upper right') \n",
    "plt.show()\n",
    "\n",
    "print('Sample 1 has mean {} and standard deviation {}'.format(sample1.mean(), sample1.std()))\n",
    "print('Sample 2 has mean {} and standard deviation {}'.format(sample2.mean(), sample2.std()))"
   ]
  },
  {
   "cell_type": "markdown",
   "metadata": {},
   "source": [
    "I believe that when we reduce the sample size to 20, the mean will stay relatively similar, but the variance will be much larger."
   ]
  },
  {
   "cell_type": "code",
   "execution_count": 35,
   "metadata": {},
   "outputs": [
    {
     "data": {
      "image/png": "[encoded data removed]",
      "text/plain": [
       "<Figure size 432x288 with 1 Axes>"
      ]
     },
     "metadata": {
      "needs_background": "light"
     },
     "output_type": "display_data"
    },
    {
     "name": "stdout",
     "output_type": "stream",
     "text": [
      "Sample 1 with n=1000 has mean 1.983 and standard deviation 1.2801214786105262\n",
      "Sample 2 with n=1000 has mean 4.903 and standard deviation 1.579110825749732\n",
      "The difference in sample means is 2.9199999999999995\n"
     ]
    }
   ],
   "source": [
    "sample1_n1000 = np.random.choice(pop1, 1000, replace=True)\n",
    "sample2_n1000 = np.random.choice(pop2, 1000, replace=True)\n",
    "\n",
    "plt.hist(sample1_n1000, alpha=0.5, label='sample 1') \n",
    "plt.hist(sample2_n1000, alpha=0.5, label='sample 2') \n",
    "plt.legend(loc='upper right') \n",
    "plt.show()\n",
    "\n",
    "print('Sample 1 with n=1000 has mean {} and standard deviation {}'.format(sample1_n1000.mean(), sample1_n1000.std()))\n",
    "print('Sample 2 with n=1000 has mean {} and standard deviation {}'.format(sample2_n1000.mean(), sample2_n1000.std()))\n",
    "\n",
    "print('The difference in sample means is {}'.format(sample2_n1000.mean() - sample1_n1000.mean()))"
   ]
  },
  {
   "cell_type": "code",
   "execution_count": 34,
   "metadata": {},
   "outputs": [
    {
     "data": {
      "image/png": "[encoded data removed]",
      "text/plain": [
       "<Figure size 432x288 with 1 Axes>"
      ]
     },
     "metadata": {
      "needs_background": "light"
     },
     "output_type": "display_data"
    },
    {
     "name": "stdout",
     "output_type": "stream",
     "text": [
      "Sample 1 with n=20 has mean 1.9 and standard deviation 1.1357816691600546\n",
      "Sample 2 with n=20 has mean 4.65 and standard deviation 1.194780314534852\n",
      "The difference in sample means is 2.7500000000000004\n"
     ]
    }
   ],
   "source": [
    "sample1_n20 = np.random.choice(pop1, 20, replace=True)\n",
    "sample2_n20 = np.random.choice(pop2, 20, replace=True)\n",
    "\n",
    "plt.hist(sample1_n20, alpha=0.5, label='sample 1') \n",
    "plt.hist(sample2_n20, alpha=0.5, label='sample 2') \n",
    "plt.legend(loc='upper right') \n",
    "plt.show()\n",
    "\n",
    "print('Sample 1 with n=20 has mean {} and standard deviation {}'.format(sample1_n20.mean(), sample1_n20.std()))\n",
    "print('Sample 2 with n=20 has mean {} and standard deviation {}'.format(sample2_n20.mean(), sample2_n20.std()))\n",
    "\n",
    "print('The difference in sample means is {}'.format(sample2_n20.mean() - sample1_n20.mean()))"
   ]
  },
  {
   "cell_type": "code",
   "execution_count": null,
   "metadata": {},
   "outputs": [],
   "source": []
  },
  {
   "cell_type": "markdown",
   "metadata": {},
   "source": [
    "The t-test is evaluating how likely it is these samples came from the same distribution. Because we are manuevering from p=.3 to p=.4, the results will yield that it is more likely that the sample of the population with p=.4 is close to the sample of the population with p=.5. In other words, the p-value will be larger in for p=.4."
   ]
  },
  {
   "cell_type": "code",
   "execution_count": 37,
   "metadata": {},
   "outputs": [
    {
     "name": "stdout",
     "output_type": "stream",
     "text": [
      "Ttest_indResult(statistic=9.767292357659823, pvalue=1.2339175830589291e-18)\n"
     ]
    }
   ],
   "source": [
    "from scipy.stats import ttest_ind\n",
    "\n",
    "pop1 = np.random.binomial(10, 0.3, 10000)\n",
    "pop2 = np.random.binomial(10,0.5, 10000)\n",
    "\n",
    "sample1 = np.random.choice(pop1, 100, replace=True)\n",
    "sample2 = np.random.choice(pop2, 100, replace=True)\n",
    "\n",
    "print(ttest_ind(sample2, sample1, equal_var=False))"
   ]
  },
  {
   "cell_type": "code",
   "execution_count": null,
   "metadata": {},
   "outputs": [],
   "source": []
  },
  {
   "cell_type": "code",
   "execution_count": 40,
   "metadata": {},
   "outputs": [
    {
     "name": "stdout",
     "output_type": "stream",
     "text": [
      "Pop1 has mean 3.031, sample1 has mean 3.04, and sample2 has mean 3.24\n"
     ]
    }
   ],
   "source": [
    "pop1 = np.random.poisson(3, 10000)\n",
    "\n",
    "\n",
    "sample1 = np.random.choice(pop1, 100, replace=True)\n",
    "sample2 = np.random.choice(pop1, 50, replace=True)\n",
    "\n",
    "print('Pop1 has mean {}, sample1 has mean {}, and sample2 has mean {}'.format(pop1.mean(), sample1.mean(), sample2.mean()))"
   ]
  },
  {
   "cell_type": "code",
   "execution_count": null,
   "metadata": {},
   "outputs": [],
   "source": []
  }
 ],
 "metadata": {
  "kernelspec": {
   "display_name": "Python 3",
   "language": "python",
   "name": "python3"
  },
  "language_info": {
   "codemirror_mode": {
    "name": "ipython",
    "version": 3
   },
   "file_extension": ".py",
   "mimetype": "text/x-python",
   "name": "python",
   "nbconvert_exporter": "python",
   "pygments_lexer": "ipython3",
   "version": "3.6.7"
  }
 },
 "nbformat": 4,
 "nbformat_minor": 2
}
